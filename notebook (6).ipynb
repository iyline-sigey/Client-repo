{
 "cells": [
  {
   "cell_type": "code",
   "execution_count": 1,
   "id": "bf834959-ac64-4383-8297-0a376d1aeff1",
   "metadata": {},
   "outputs": [
    {
     "data": {
      "image/png": "[encoded data removed]",
      "text/plain": [
       "<Figure size 432x288 with 1 Axes>"
      ]
     },
     "metadata": {
      "needs_background": "light"
     },
     "output_type": "display_data"
    }
   ],
   "source": [
    "import matplotlib.pyplot as plt\n",
    "\n",
    "x = [7, 14, 21, 28, 35, 42, 49]\n",
    "y = [5, 12, 19, 21, 31, 27, 35]\n",
    "z = [3, 5, 11, 20, 15, 29, 31]\n",
    "g = [5,3, 20, 11, 15, 29, 12 ]\n",
    "\n",
    "# plt.plot(x, y)\n",
    "# plt.plot(x,z)\n",
    "# plt.plot(x, g)\n",
    "plt.hist(x, bins=10)\n",
    "plt.xlabel(\"No. of Days\")\n",
    "plt.ylabel(\"Orders\")\n",
    "plt.show()"
   ]
  },
  {
   "cell_type": "code",
   "execution_count": 2,
   "id": "df4d913b-21ae-45ff-a50b-62d68e58b3c6",
   "metadata": {},
   "outputs": [
    {
     "data": {
      "text/html": [
       "<div>\n",
       "<style scoped>\n",
       "    .dataframe tbody tr th:only-of-type {\n",
       "        vertical-align: middle;\n",
       "    }\n",
       "\n",
       "    .dataframe tbody tr th {\n",
       "        vertical-align: top;\n",
       "    }\n",
       "\n",
       "    .dataframe thead th {\n",
       "        text-align: right;\n",
       "    }\n",
       "</style>\n",
       "<table border=\"1\" class=\"dataframe\">\n",
       "  <thead>\n",
       "    <tr style=\"text-align: right;\">\n",
       "      <th></th>\n",
       "      <th>telephone</th>\n",
       "    </tr>\n",
       "  </thead>\n",
       "  <tbody>\n",
       "    <tr>\n",
       "      <th>0</th>\n",
       "      <td>8994692132</td>\n",
       "    </tr>\n",
       "    <tr>\n",
       "      <th>1</th>\n",
       "      <td>6915012878</td>\n",
       "    </tr>\n",
       "    <tr>\n",
       "      <th>2</th>\n",
       "      <td>5120817150</td>\n",
       "    </tr>\n",
       "    <tr>\n",
       "      <th>3</th>\n",
       "      <td>1686744772</td>\n",
       "    </tr>\n",
       "    <tr>\n",
       "      <th>4</th>\n",
       "      <td>3206935469</td>\n",
       "    </tr>\n",
       "  </tbody>\n",
       "</table>\n",
       "</div>"
      ],
      "text/plain": [
       "    telephone\n",
       "0  8994692132\n",
       "1  6915012878\n",
       "2  5120817150\n",
       "3  1686744772\n",
       "4  3206935469"
      ]
     },
     "execution_count": 2,
     "metadata": {},
     "output_type": "execute_result"
    }
   ],
   "source": [
    "import pandas as pd\n",
    "\n",
    "file_location = \"sample_data.xlsx\"\n",
    "df2 = pd.read_excel( file_location, sheet_name=\"Sheet2\", usecols=\"D\")\n",
    "df2.head()\n",
    "# print(df)"
   ]
  },
  {
   "cell_type": "code",
   "execution_count": 3,
   "id": "e5bcbc19-7898-496a-8c93-b98af7170633",
   "metadata": {
    "tags": []
   },
   "outputs": [],
   "source": [
    "# df = pd.read_excel('sample_data.xlsx')\n",
    "\n",
    "file_location = \"sample_data.xlsx\"\n",
    "df = pd.read_excel( file_location, sheet_name=\"Sheet2\", usecols=\"A, C, D\")\n",
    "writer = pd.ExcelWriter('provider_contact.xlsx', engine='xlsxwriter')\n",
    "df.to_excel(writer)\n",
    "writer.save()"
   ]
  },
  {
   "cell_type": "code",
   "execution_count": null,
   "id": "18903f51-781a-46ee-bbe2-ee9979d6a807",
   "metadata": {},
   "outputs": [],
   "source": []
  }
 ],
 "metadata": {
  "kernelspec": {
   "display_name": "Python 3 (ipykernel)",
   "language": "python",
   "name": "python3"
  },
  "language_info": {
   "codemirror_mode": {
    "name": "ipython",
    "version": 3
   },
   "file_extension": ".py",
   "mimetype": "text/x-python",
   "name": "python",
   "nbconvert_exporter": "python",
   "pygments_lexer": "ipython3",
   "version": "3.9.7"
  }
 },
 "nbformat": 4,
 "nbformat_minor": 5
}
